{
  "nbformat": 4,
  "nbformat_minor": 0,
  "metadata": {
    "colab": {
      "name": "Eclat.ipynb",
      "provenance": [],
      "collapsed_sections": []
    },
    "kernelspec": {
      "name": "python3",
      "display_name": "Python 3"
    }
  },
  "cells": [
    {
      "cell_type": "code",
      "metadata": {
        "colab": {
          "base_uri": "https://localhost:8080/"
        },
        "id": "Oiu9jyw9mJNc",
        "outputId": "cb829a76-bb40-453f-f47d-e97416db08ff"
      },
      "source": [
        "!pip install apyori"
      ],
      "execution_count": null,
      "outputs": [
        {
          "output_type": "stream",
          "text": [
            "Requirement already satisfied: apyori in /usr/local/lib/python3.7/dist-packages (1.1.2)\n"
          ],
          "name": "stdout"
        }
      ]
    },
    {
      "cell_type": "code",
      "metadata": {
        "id": "GeZkwQxPmV3O"
      },
      "source": [
        "import pandas as pd\n",
        "import matplotlib.pyplot as plt"
      ],
      "execution_count": null,
      "outputs": []
    },
    {
      "cell_type": "code",
      "metadata": {
        "id": "5tIJnAKtm52F"
      },
      "source": [
        "dataset = pd.read_csv('Market_Basket_Optimisation.csv', header=None)\n",
        "transactions=[]\n",
        "for i in range(0,7501):\n",
        "  transactions.append([str(dataset.values[i, j]) for j in range(0, 20)])"
      ],
      "execution_count": null,
      "outputs": []
    },
    {
      "cell_type": "code",
      "metadata": {
        "id": "3AtBlpz7olOm"
      },
      "source": [
        "from apyori import apriori\n",
        "rules = list(apriori(transactions = transactions, min_support=0.003, min_confidence=0.2, min_lift=3, min_length = 3, max_length = 3))"
      ],
      "execution_count": null,
      "outputs": []
    },
    {
      "cell_type": "code",
      "metadata": {
        "id": "if-Ew8VHo3Gc"
      },
      "source": [
        "rules"
      ],
      "execution_count": null,
      "outputs": []
    },
    {
      "cell_type": "code",
      "metadata": {
        "id": "kLj7MKWTxx3r"
      },
      "source": [
        "product_1 = [tuple(i[2][0][0]) for i in rules]\n",
        "product_1"
      ],
      "execution_count": null,
      "outputs": []
    },
    {
      "cell_type": "code",
      "metadata": {
        "id": "1jaQWlqAsmAP"
      },
      "source": [
        "def inspect(results):\n",
        "  product_1 = [i[2][0][0] for i in results]\n",
        "  product_2 = [tuple(i[2][0][1])[0] for i in results]\n",
        "  support = [i[1] for i in results]\n",
        "  return zip(product_1, product_2, support)\n",
        "df = pd.DataFrame(data=inspect(rules), columns=['Product 1', 'Product 2', 'Support'])"
      ],
      "execution_count": null,
      "outputs": []
    },
    {
      "cell_type": "code",
      "metadata": {
        "id": "N64F5YHsuTwZ"
      },
      "source": [
        "df.nlargest(n=10, columns='Support')"
      ],
      "execution_count": null,
      "outputs": []
    }
  ]
}